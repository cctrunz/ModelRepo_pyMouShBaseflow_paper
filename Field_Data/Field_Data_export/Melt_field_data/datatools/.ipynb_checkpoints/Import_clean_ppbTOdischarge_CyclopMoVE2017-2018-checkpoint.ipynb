{
 "cells": [
  {
   "cell_type": "code",
   "execution_count": 1,
   "metadata": {},
   "outputs": [
    {
     "name": "stdout",
     "output_type": "stream",
     "text": [
      "Populating the interactive namespace from numpy and matplotlib\n"
     ]
    }
   ],
   "source": [
    "#Code to process discharge data with dye measurement \n",
    "#measured with cyclop on the Greenland Ice Sheet 2017, 2018, MoVE project\n",
    "# look in Cyclops-curve-analysis.ipynb\n",
    "%pylab inline\n",
    "from pandas import read_csv,to_datetime,concat,Timedelta\n"
   ]
  },
  {
   "cell_type": "code",
   "execution_count": 2,
   "metadata": {},
   "outputs": [],
   "source": [
    "# to transform into discharge\n",
    "def calc_Q_const(C_stream, pump_rate, C_injection):\n",
    "    return C_injection*pump_rate/C_stream"
   ]
  },
  {
   "cell_type": "code",
   "execution_count": 3,
   "metadata": {},
   "outputs": [
    {
     "ename": "FileNotFoundError",
     "evalue": "[Errno 2] File b'7377-196807_cat.txt' does not exist: b'7377-196807_cat.txt'",
     "output_type": "error",
     "traceback": [
      "\u001b[0;31m---------------------------------------------------------------------------\u001b[0m",
      "\u001b[0;31mFileNotFoundError\u001b[0m                         Traceback (most recent call last)",
      "\u001b[0;32m<ipython-input-3-5c79be64dfcc>\u001b[0m in \u001b[0;36m<module>\u001b[0;34m\u001b[0m\n\u001b[1;32m      3\u001b[0m Cyclop_LC_2018_1=read_csv('7377-196807_cat.txt', \n\u001b[1;32m      4\u001b[0m                           \u001b[0mskiprows\u001b[0m\u001b[0;34m=\u001b[0m\u001b[0;36m7\u001b[0m\u001b[0;34m,\u001b[0m\u001b[0mindex_col\u001b[0m\u001b[0;34m=\u001b[0m\u001b[0;36m1\u001b[0m\u001b[0;34m,\u001b[0m \u001b[0mparse_dates\u001b[0m\u001b[0;34m=\u001b[0m\u001b[0;32mTrue\u001b[0m\u001b[0;34m,\u001b[0m\u001b[0;34m\u001b[0m\u001b[0;34m\u001b[0m\u001b[0m\n\u001b[0;32m----> 5\u001b[0;31m                           names=['timestamp','Central_Time','Battery','Temperature','ppb','Gain'])\n\u001b[0m\u001b[1;32m      6\u001b[0m \u001b[0;34m\u001b[0m\u001b[0m\n\u001b[1;32m      7\u001b[0m \u001b[0;34m\u001b[0m\u001b[0m\n",
      "\u001b[0;32m/Applications/anaconda3/lib/python3.7/site-packages/pandas/io/parsers.py\u001b[0m in \u001b[0;36mparser_f\u001b[0;34m(filepath_or_buffer, sep, delimiter, header, names, index_col, usecols, squeeze, prefix, mangle_dupe_cols, dtype, engine, converters, true_values, false_values, skipinitialspace, skiprows, skipfooter, nrows, na_values, keep_default_na, na_filter, verbose, skip_blank_lines, parse_dates, infer_datetime_format, keep_date_col, date_parser, dayfirst, iterator, chunksize, compression, thousands, decimal, lineterminator, quotechar, quoting, doublequote, escapechar, comment, encoding, dialect, tupleize_cols, error_bad_lines, warn_bad_lines, delim_whitespace, low_memory, memory_map, float_precision)\u001b[0m\n\u001b[1;32m    700\u001b[0m                     skip_blank_lines=skip_blank_lines)\n\u001b[1;32m    701\u001b[0m \u001b[0;34m\u001b[0m\u001b[0m\n\u001b[0;32m--> 702\u001b[0;31m         \u001b[0;32mreturn\u001b[0m \u001b[0m_read\u001b[0m\u001b[0;34m(\u001b[0m\u001b[0mfilepath_or_buffer\u001b[0m\u001b[0;34m,\u001b[0m \u001b[0mkwds\u001b[0m\u001b[0;34m)\u001b[0m\u001b[0;34m\u001b[0m\u001b[0;34m\u001b[0m\u001b[0m\n\u001b[0m\u001b[1;32m    703\u001b[0m \u001b[0;34m\u001b[0m\u001b[0m\n\u001b[1;32m    704\u001b[0m     \u001b[0mparser_f\u001b[0m\u001b[0;34m.\u001b[0m\u001b[0m__name__\u001b[0m \u001b[0;34m=\u001b[0m \u001b[0mname\u001b[0m\u001b[0;34m\u001b[0m\u001b[0;34m\u001b[0m\u001b[0m\n",
      "\u001b[0;32m/Applications/anaconda3/lib/python3.7/site-packages/pandas/io/parsers.py\u001b[0m in \u001b[0;36m_read\u001b[0;34m(filepath_or_buffer, kwds)\u001b[0m\n\u001b[1;32m    427\u001b[0m \u001b[0;34m\u001b[0m\u001b[0m\n\u001b[1;32m    428\u001b[0m     \u001b[0;31m# Create the parser.\u001b[0m\u001b[0;34m\u001b[0m\u001b[0;34m\u001b[0m\u001b[0;34m\u001b[0m\u001b[0m\n\u001b[0;32m--> 429\u001b[0;31m     \u001b[0mparser\u001b[0m \u001b[0;34m=\u001b[0m \u001b[0mTextFileReader\u001b[0m\u001b[0;34m(\u001b[0m\u001b[0mfilepath_or_buffer\u001b[0m\u001b[0;34m,\u001b[0m \u001b[0;34m**\u001b[0m\u001b[0mkwds\u001b[0m\u001b[0;34m)\u001b[0m\u001b[0;34m\u001b[0m\u001b[0;34m\u001b[0m\u001b[0m\n\u001b[0m\u001b[1;32m    430\u001b[0m \u001b[0;34m\u001b[0m\u001b[0m\n\u001b[1;32m    431\u001b[0m     \u001b[0;32mif\u001b[0m \u001b[0mchunksize\u001b[0m \u001b[0;32mor\u001b[0m \u001b[0miterator\u001b[0m\u001b[0;34m:\u001b[0m\u001b[0;34m\u001b[0m\u001b[0;34m\u001b[0m\u001b[0m\n",
      "\u001b[0;32m/Applications/anaconda3/lib/python3.7/site-packages/pandas/io/parsers.py\u001b[0m in \u001b[0;36m__init__\u001b[0;34m(self, f, engine, **kwds)\u001b[0m\n\u001b[1;32m    893\u001b[0m             \u001b[0mself\u001b[0m\u001b[0;34m.\u001b[0m\u001b[0moptions\u001b[0m\u001b[0;34m[\u001b[0m\u001b[0;34m'has_index_names'\u001b[0m\u001b[0;34m]\u001b[0m \u001b[0;34m=\u001b[0m \u001b[0mkwds\u001b[0m\u001b[0;34m[\u001b[0m\u001b[0;34m'has_index_names'\u001b[0m\u001b[0;34m]\u001b[0m\u001b[0;34m\u001b[0m\u001b[0;34m\u001b[0m\u001b[0m\n\u001b[1;32m    894\u001b[0m \u001b[0;34m\u001b[0m\u001b[0m\n\u001b[0;32m--> 895\u001b[0;31m         \u001b[0mself\u001b[0m\u001b[0;34m.\u001b[0m\u001b[0m_make_engine\u001b[0m\u001b[0;34m(\u001b[0m\u001b[0mself\u001b[0m\u001b[0;34m.\u001b[0m\u001b[0mengine\u001b[0m\u001b[0;34m)\u001b[0m\u001b[0;34m\u001b[0m\u001b[0;34m\u001b[0m\u001b[0m\n\u001b[0m\u001b[1;32m    896\u001b[0m \u001b[0;34m\u001b[0m\u001b[0m\n\u001b[1;32m    897\u001b[0m     \u001b[0;32mdef\u001b[0m \u001b[0mclose\u001b[0m\u001b[0;34m(\u001b[0m\u001b[0mself\u001b[0m\u001b[0;34m)\u001b[0m\u001b[0;34m:\u001b[0m\u001b[0;34m\u001b[0m\u001b[0;34m\u001b[0m\u001b[0m\n",
      "\u001b[0;32m/Applications/anaconda3/lib/python3.7/site-packages/pandas/io/parsers.py\u001b[0m in \u001b[0;36m_make_engine\u001b[0;34m(self, engine)\u001b[0m\n\u001b[1;32m   1120\u001b[0m     \u001b[0;32mdef\u001b[0m \u001b[0m_make_engine\u001b[0m\u001b[0;34m(\u001b[0m\u001b[0mself\u001b[0m\u001b[0;34m,\u001b[0m \u001b[0mengine\u001b[0m\u001b[0;34m=\u001b[0m\u001b[0;34m'c'\u001b[0m\u001b[0;34m)\u001b[0m\u001b[0;34m:\u001b[0m\u001b[0;34m\u001b[0m\u001b[0;34m\u001b[0m\u001b[0m\n\u001b[1;32m   1121\u001b[0m         \u001b[0;32mif\u001b[0m \u001b[0mengine\u001b[0m \u001b[0;34m==\u001b[0m \u001b[0;34m'c'\u001b[0m\u001b[0;34m:\u001b[0m\u001b[0;34m\u001b[0m\u001b[0;34m\u001b[0m\u001b[0m\n\u001b[0;32m-> 1122\u001b[0;31m             \u001b[0mself\u001b[0m\u001b[0;34m.\u001b[0m\u001b[0m_engine\u001b[0m \u001b[0;34m=\u001b[0m \u001b[0mCParserWrapper\u001b[0m\u001b[0;34m(\u001b[0m\u001b[0mself\u001b[0m\u001b[0;34m.\u001b[0m\u001b[0mf\u001b[0m\u001b[0;34m,\u001b[0m \u001b[0;34m**\u001b[0m\u001b[0mself\u001b[0m\u001b[0;34m.\u001b[0m\u001b[0moptions\u001b[0m\u001b[0;34m)\u001b[0m\u001b[0;34m\u001b[0m\u001b[0;34m\u001b[0m\u001b[0m\n\u001b[0m\u001b[1;32m   1123\u001b[0m         \u001b[0;32melse\u001b[0m\u001b[0;34m:\u001b[0m\u001b[0;34m\u001b[0m\u001b[0;34m\u001b[0m\u001b[0m\n\u001b[1;32m   1124\u001b[0m             \u001b[0;32mif\u001b[0m \u001b[0mengine\u001b[0m \u001b[0;34m==\u001b[0m \u001b[0;34m'python'\u001b[0m\u001b[0;34m:\u001b[0m\u001b[0;34m\u001b[0m\u001b[0;34m\u001b[0m\u001b[0m\n",
      "\u001b[0;32m/Applications/anaconda3/lib/python3.7/site-packages/pandas/io/parsers.py\u001b[0m in \u001b[0;36m__init__\u001b[0;34m(self, src, **kwds)\u001b[0m\n\u001b[1;32m   1851\u001b[0m         \u001b[0mkwds\u001b[0m\u001b[0;34m[\u001b[0m\u001b[0;34m'usecols'\u001b[0m\u001b[0;34m]\u001b[0m \u001b[0;34m=\u001b[0m \u001b[0mself\u001b[0m\u001b[0;34m.\u001b[0m\u001b[0musecols\u001b[0m\u001b[0;34m\u001b[0m\u001b[0;34m\u001b[0m\u001b[0m\n\u001b[1;32m   1852\u001b[0m \u001b[0;34m\u001b[0m\u001b[0m\n\u001b[0;32m-> 1853\u001b[0;31m         \u001b[0mself\u001b[0m\u001b[0;34m.\u001b[0m\u001b[0m_reader\u001b[0m \u001b[0;34m=\u001b[0m \u001b[0mparsers\u001b[0m\u001b[0;34m.\u001b[0m\u001b[0mTextReader\u001b[0m\u001b[0;34m(\u001b[0m\u001b[0msrc\u001b[0m\u001b[0;34m,\u001b[0m \u001b[0;34m**\u001b[0m\u001b[0mkwds\u001b[0m\u001b[0;34m)\u001b[0m\u001b[0;34m\u001b[0m\u001b[0;34m\u001b[0m\u001b[0m\n\u001b[0m\u001b[1;32m   1854\u001b[0m         \u001b[0mself\u001b[0m\u001b[0;34m.\u001b[0m\u001b[0munnamed_cols\u001b[0m \u001b[0;34m=\u001b[0m \u001b[0mself\u001b[0m\u001b[0;34m.\u001b[0m\u001b[0m_reader\u001b[0m\u001b[0;34m.\u001b[0m\u001b[0munnamed_cols\u001b[0m\u001b[0;34m\u001b[0m\u001b[0;34m\u001b[0m\u001b[0m\n\u001b[1;32m   1855\u001b[0m \u001b[0;34m\u001b[0m\u001b[0m\n",
      "\u001b[0;32mpandas/_libs/parsers.pyx\u001b[0m in \u001b[0;36mpandas._libs.parsers.TextReader.__cinit__\u001b[0;34m()\u001b[0m\n",
      "\u001b[0;32mpandas/_libs/parsers.pyx\u001b[0m in \u001b[0;36mpandas._libs.parsers.TextReader._setup_parser_source\u001b[0;34m()\u001b[0m\n",
      "\u001b[0;31mFileNotFoundError\u001b[0m: [Errno 2] File b'7377-196807_cat.txt' does not exist: b'7377-196807_cat.txt'"
     ]
    }
   ],
   "source": [
    "## FIRST STREAM - DO NOT KNOW WHICH ONE YET\n",
    "\n",
    "Cyclop_LC_2018_1=read_csv('7377-196807_cat.txt', \n",
    "                          skiprows=7,index_col=1, parse_dates=True,\n",
    "                          names=['timestamp','Central_Time','Battery','Temperature','ppb','Gain'])\n",
    "\n",
    "\n",
    "# SECOND STREAM - POSITION TO BE DETERMINED\n",
    "Cyclop_LC_2018_2=read_csv('7377-473746_cat.txt', \n",
    "                          skiprows=7,index_col=1, parse_dates=True,\n",
    "                          names=['timestamp','Central_Time','Battery','Temperature','ppb','Gain'])\n",
    "\n",
    "#Cyclop_LowCamp_2018_3=read_csv('DownloadInOffice_Summer2018/7377-473746/Cat.txt',\n",
    "                               #skiprows=7,index_col=1, parse_dates=True,\n",
    "                               #names=['timestamp','Central_Time','Battery','Temperature','ppb','Gain'])\n",
    "\n",
    "## CONCENTRATION OF THE DYE:\n",
    "# PIRATE: 2*10**8*(0.300/3.)???\n",
    "# 300 ml of concentrated dye in 3l of water\n",
    "C_injection_1=2*10**8*(0.300/3.)\n",
    "# Other Stream: \n",
    "\n",
    "C_injection_2=2*10**8*(0.040/3.)"
   ]
  },
  {
   "cell_type": "code",
   "execution_count": null,
   "metadata": {},
   "outputs": [],
   "source": [
    "\n",
    "\n",
    "# ax=Cyclop_LowCamp_2018_1.plot(y='Sensor ( ppb)',label='7377-196807',marker='.')\n",
    "# Cyclop_LowCamp_2018_2.plot(ax=ax,y='Sensor ( ppb)',label='7377-473746',figsize=(20,5),marker='.')\n",
    "# ylabel('Concentration in ppb')\n",
    "#savefig('Dye_concentration_2018')"
   ]
  },
  {
   "cell_type": "code",
   "execution_count": null,
   "metadata": {},
   "outputs": [],
   "source": [
    "## TRANSFORMATION IN DISCHARGE: \n",
    "#  C_stream is the concentration in the stream and is the column: 'Sensor ( ppb)'\n",
    "# pump_rate is pumping rate: \n",
    "# C_injection in the concentration of the injected mix: "
   ]
  },
  {
   "cell_type": "code",
   "execution_count": null,
   "metadata": {},
   "outputs": [],
   "source": [
    "fig,ax=subplots(figsize=(20,5))\n",
    "ax.plot(Cyclop_LC_2018_1.ppb,'o',label='Pirate?')\n",
    "\n",
    "axvspan('2018-07-11 00:00', '2018-07-11 23:59', facecolor='grey', alpha=0.4); plt.text('2018-07-11 12:00', 20, '2.25 ml/min',ha='center',fontsize=16,rotation=90)\n",
    "axvspan('2018-07-12 00:00', '2018-07-12 23:59', facecolor='grey', alpha=0.2);plt.text('2018-07-12 12:00', 20, '0.05 ml/min',ha='center',fontsize=16,rotation=90)\n",
    "axvspan('2018-07-13 00:00', '2018-07-13 23:59', facecolor='grey', alpha=0.4);plt.text('2018-07-13 12:00', 20, 'Pump malfunction',ha='center',fontsize=16,rotation=90) \n",
    "axvspan('2018-07-14 00:00', '2018-07-14 23:59', facecolor='grey', alpha=0.2);plt.text('2018-07-14 12:00', 20, '1.6 ml/min',ha='center',fontsize=16,rotation=90) \n",
    "\n",
    "ax.set_ylabel('Dye concentration (ppb)',fontsize=20)\n",
    "ax.tick_params('y',labelsize=20)\n",
    "ax.tick_params('x',labelsize=16)\n",
    "legend(fontsize=14)\n",
    "savefig('Pirate_DyeConcentration_2018.pdf')\n",
    "\n",
    "fig,ax=subplots(figsize=(20,5))\n",
    "#ax.plot(Cyclop_LowCamp_2018_3.ppb[(Cyclop_LowCamp_2018_3.ppb<300)&(Cyclop_LowCamp_2018_3.ppb>0)],'o',label='Other stream?')\n",
    "ax.plot(Cyclop_LC_2018_2.ppb[Cyclop_LC_2018_2.ppb<300],'o',label='Other stream?')\n",
    "axvspan('2018-07-13 00:00', '2018-07-13 23:59', facecolor='grey', alpha=0.4);plt.text('2018-07-13 12:00', 15, '2.6 ml/min',ha='center',fontsize=16,rotation=90)\n",
    "axvspan('2018-07-14 00:00', '2018-07-14 23:59', facecolor='grey', alpha=0.2);plt.text('2018-07-14 12:00', 15, '2.0 ml/min',ha='center',fontsize=16,rotation=90) \n",
    "axvspan('2018-07-15 00:00', '2018-07-15 23:59', facecolor='grey', alpha=0.4);plt.text('2018-07-15 12:00', 15, '1.9 ml/min',ha='center',fontsize=16,rotation=90) \n",
    "axvspan('2018-07-16 00:00', '2018-07-16 23:59', facecolor='grey', alpha=0.2);plt.text('2018-07-16 12:00', 15, '1.9 ml/min',ha='center',fontsize=16,rotation=90) \n",
    "axvspan('2018-07-17 00:00', '2018-07-17 23:59', facecolor='grey', alpha=0.4);plt.text('2018-07-17 12:00', 15, '2.0 ml/min',ha='center',fontsize=16,rotation=90) \n",
    "axvspan('2018-07-18 00:00', '2018-07-18 23:59', facecolor='grey', alpha=0.2);plt.text('2018-07-18 12:00', 15, '2.0 ml/min',ha='center',fontsize=16,rotation=90) \n",
    "\n",
    "ax.set_ylabel('Dye concentration (ppb)',fontsize=20)\n",
    "ax.tick_params('y',labelsize=20)\n",
    "ax.tick_params('x',labelsize=16)\n",
    "legend(fontsize=14)\n",
    "savefig('OtherStream_DyeConcentration_2018.pdf')"
   ]
  },
  {
   "cell_type": "code",
   "execution_count": null,
   "metadata": {},
   "outputs": [],
   "source": [
    "%pylab inline\n",
    "figure(figsize=(20,5))\n",
    "plot(Cyclop_LC_2018_1.ppb[Cyclop_LC_2018_1.ppb<300].index-Timedelta(hours=6),\n",
    "     Cyclop_LC_2018_1.ppb[Cyclop_LC_2018_1.ppb<300],label=('Pirate? (datetime-6h)'))\n",
    "plot(Cyclop_LC_2018_2.ppb[Cyclop_LC_2018_2.ppb<300],label=('Other stream?'))\n",
    "ylabel('ppb',fontsize=20)\n",
    "yticks(fontsize=16)\n",
    "xticks(fontsize=16)\n",
    "legend(fontsize=24)\n",
    "savefig('ppb_compare_PirateVSotherSTream.pdf')"
   ]
  },
  {
   "cell_type": "code",
   "execution_count": null,
   "metadata": {},
   "outputs": [],
   "source": []
  }
 ],
 "metadata": {
  "kernelspec": {
   "display_name": "Python 3",
   "language": "python",
   "name": "python3"
  },
  "language_info": {
   "codemirror_mode": {
    "name": "ipython",
    "version": 3
   },
   "file_extension": ".py",
   "mimetype": "text/x-python",
   "name": "python",
   "nbconvert_exporter": "python",
   "pygments_lexer": "ipython3",
   "version": "3.7.3"
  }
 },
 "nbformat": 4,
 "nbformat_minor": 2
}
