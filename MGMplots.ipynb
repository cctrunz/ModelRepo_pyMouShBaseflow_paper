{
 "cells": [
  {
   "cell_type": "code",
   "execution_count": 22,
   "metadata": {},
   "outputs": [],
   "source": [
    "from PyMouSh import MoulinShape, TimeStamps, Qin_sinusoidal\n",
    "import numpy as np\n",
    "import matplotlib.pyplot as plt\n",
    "from collections import defaultdict\n",
    "import pandas as pd\n",
    "import os\n",
    "import ffmpeg\n",
    "\n",
    "#conda install -c conda-forge/label/cf202003 ffmpeg-python (the only way that worked)\n",
    "\n",
    "secinday = 24*3600\n",
    "ZERO_KELVIN = 273.15\n",
    "\n",
    "channel_length = 30000\n",
    "ice_thickness = 1000\n",
    "heq = 707.38\n",
    "\n",
    "temperature_profile =np.array([ZERO_KELVIN, ZERO_KELVIN])\n",
    "regional_surface_slope = 0\n",
    "initial_subglacial_area = 0.1#(np.pi*0.2**2)/2)\n",
    "\n",
    "#time\n",
    "start = 0\n",
    "end = 20\n",
    "timestep = 300\n",
    "time = np.arange(start*secinday,end*secinday,timestep)\n",
    "time_figure = np.arange((start+5)*secinday,(end-5)*secinday,timestep*12)\n",
    "\n",
    "#idealized Qin for test purposes\n",
    "Qin_mean = 3\n",
    "dQ = 0.4 \n",
    "meltwater_input = Qin_sinusoidal(time,Qin_mean, dQ)\n",
    "Q_lim = [2,4]\n",
    "SC_lim = [0.85,0.95]\n",
    "path = 'figure_movie_MGM/'\n",
    "#path = '/Users/celia/Dropbox/RESEARCH/MOULIN-SHAPE-FIGURES-MOVIES/MGM_movies/' # for little macbook pro\n",
    "#path = '/Users/cctrunz/Dropbox/RESEARCH/MOULIN-SHAPE-FIGURES-MOVIES/MGM_movies/' # for big mac\n",
    "#path = 'C:/Users/celia/Dropbox/RESEARCH/MOULIN-SHAPE-FIGURES-MOVIES/MGM_movies/' # for surface pro\n",
    "    \n",
    "def make_MGM(r_top = None,\n",
    "             r_bottom = None,\n",
    "             z_break = None,\n",
    "             main = None,\n",
    "             middle = None,\n",
    "             losange = False                    \n",
    "             ):\n",
    "            \n",
    "    if losange == True:\n",
    "        name = 'MGM_main%d_middle%d'%(main,middle)\n",
    "        if os.path.isdir(path+name) == False:\n",
    "            os.mkdir(path + name) \n",
    "        moulin = MoulinShape(z_elevations = [0,heq-(1000-heq),heq,1000],\n",
    "                              moulin_radii = [main,main,middle,main],\n",
    "                              channel_length = channel_length,\n",
    "                              ice_thickness = ice_thickness)\n",
    "    else:\n",
    "        name = 'MGM_top%d_bottom%d_zbreak%d'%(r_top,r_bottom,z_break)\n",
    "        if os.path.isdir(path+name) == False:\n",
    "            os.mkdir(path + name) \n",
    "        moulin = MoulinShape(z_elevations = [0,z_break,z_break,1000],\n",
    "                              moulin_radii = [r_bottom,r_bottom,r_top,r_top],\n",
    "                              channel_length = channel_length,\n",
    "                              ice_thickness = ice_thickness)\n",
    "\n",
    "    for idx,t in enumerate(time):\n",
    "        moulin.run1step(t,timestep, meltwater_input[idx],\n",
    "                        creep=False,\n",
    "                        elastic_deformation=False,\n",
    "                        melt_below_head=False,\n",
    "                        open_channel_melt=False,\n",
    "                        potential_drop=False,\n",
    "                        ice_motion=False,\n",
    "                        refreezing=False)\n",
    "     \n",
    "    for idx,t_start in enumerate(time_figure):\n",
    "        t_end = t_start + 5*secinday\n",
    "        fig = plt.figure(figsize=(6,4))    \n",
    "        moulin.plot_MGM(fig,t_start, t_end,\n",
    "                          spine_head_min=500,\n",
    "                          ground_depth=-100,\n",
    "                          Q_lim = Q_lim,\n",
    "                          SC_lim = SC_lim,\n",
    "                          Q_fixed = False)\n",
    "        plt.savefig('figure_movie_MGM/'+ name +'/img%d.png'%(idx), bbox_inches=\"tight\",dpi=200)\n",
    "        plt.clf()\n",
    "        plt.close(fig)\n",
    "        \n",
    "    return name        \n",
    "\n",
    "def make_movie(name):\n",
    "    if os.path.isfile('figure_movie_MGM/' + name + '.avi') == True:\n",
    "        print('Delete existing file ','figure_movie_MGM/' + name + '.avi')\n",
    "    (\n",
    "    ffmpeg\n",
    "        .input('figure_movie_MGM/'+ name +'/img%d.png', framerate=15)\n",
    "        .output('figure_movie_MGM/' + name + '.avi', **{'qscale:v': 3})\n",
    "        .run()\n",
    "    )"
   ]
  },
  {
   "cell_type": "code",
   "execution_count": 2,
   "metadata": {},
   "outputs": [],
   "source": [
    "cylinder1 = make_MGM(r_top = 1,r_bottom = 1,z_break = heq)\n",
    "make_movie(cylinder1)"
   ]
  },
  {
   "cell_type": "code",
   "execution_count": 23,
   "metadata": {},
   "outputs": [],
   "source": [
    "#cylinder4 = make_MGM(r_top = 4,r_bottom = 4,z_break = heq)\n",
    "make_movie(cylinder4)"
   ]
  },
  {
   "cell_type": "code",
   "execution_count": 10,
   "metadata": {},
   "outputs": [
    {
     "ename": "NameError",
     "evalue": "name 'cylinder8' is not defined",
     "output_type": "error",
     "traceback": [
      "\u001b[0;31m---------------------------------------------------------------------------\u001b[0m",
      "\u001b[0;31mNameError\u001b[0m                                 Traceback (most recent call last)",
      "\u001b[0;32m<ipython-input-10-4859dd4c65a7>\u001b[0m in \u001b[0;36m<module>\u001b[0;34m\u001b[0m\n\u001b[1;32m      1\u001b[0m \u001b[0;31m#### cylinder8 = make_MGM(r_top = 8,r_bottom = 8,z_break = heq)\u001b[0m\u001b[0;34m\u001b[0m\u001b[0;34m\u001b[0m\u001b[0;34m\u001b[0m\u001b[0m\n\u001b[0;32m----> 2\u001b[0;31m \u001b[0mmake_movie\u001b[0m\u001b[0;34m(\u001b[0m\u001b[0mcylinder8\u001b[0m\u001b[0;34m)\u001b[0m\u001b[0;34m\u001b[0m\u001b[0;34m\u001b[0m\u001b[0m\n\u001b[0m",
      "\u001b[0;31mNameError\u001b[0m: name 'cylinder8' is not defined"
     ]
    }
   ],
   "source": [
    "#### cylinder8 = make_MGM(r_top = 8,r_bottom = 8,z_break = heq)\n",
    "make_movie(cylinder8)"
   ]
  },
  {
   "cell_type": "code",
   "execution_count": null,
   "metadata": {},
   "outputs": [],
   "source": [
    "cylinder4 = make_MGM(r_top = 4,r_bottom = 4,z_break = heq)\n",
    "make_movie(cylinder4)"
   ]
  },
  {
   "cell_type": "code",
   "execution_count": null,
   "metadata": {},
   "outputs": [],
   "source": [
    "diamond13 = make_MGM(losange = True, main = 1 ,middle = 4)\n",
    "make_movie(diamond13)"
   ]
  },
  {
   "cell_type": "code",
   "execution_count": null,
   "metadata": {},
   "outputs": [],
   "source": []
  }
 ],
 "metadata": {
  "kernelspec": {
   "display_name": "Python 3",
   "language": "python",
   "name": "python3"
  },
  "language_info": {
   "codemirror_mode": {
    "name": "ipython",
    "version": 3
   },
   "file_extension": ".py",
   "mimetype": "text/x-python",
   "name": "python",
   "nbconvert_exporter": "python",
   "pygments_lexer": "ipython3",
   "version": "3.6.8"
  }
 },
 "nbformat": 4,
 "nbformat_minor": 4
}
