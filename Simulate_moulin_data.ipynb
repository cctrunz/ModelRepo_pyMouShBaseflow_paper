{
 "cells": [
  {
   "cell_type": "code",
   "execution_count": 1,
   "metadata": {},
   "outputs": [],
   "source": [
    "from PyMouSh import MoulinShape, TimeStamps, Qin_sinusoidal, Qin_real\n",
    "import numpy as np\n",
    "import matplotlib.pyplot as plt\n",
    "import pandas as pd\n",
    "\n",
    "secinday = 24*3600\n",
    "ZERO_KELVIN = 273.15"
   ]
  },
  {
   "cell_type": "code",
   "execution_count": 5,
   "metadata": {},
   "outputs": [],
   "source": [
    "temperature_profile=np.array([ZERO_KELVIN, ZERO_KELVIN])\n",
    "ice_thickness = 500\n",
    "regional_surface_slope = 0\n",
    "channel_length = 15000\n",
    "\n",
    "jeme_basin = pd.read_csv('Field_Data/surface_melt_jeme.csv')\n",
    "jeme_basin = jeme_basin.dropna()\n",
    "Qin_data = jeme_basin.Qm3s.to_numpy() +0.1\n",
    "Qtime_data = jeme_basin.SOY.to_numpy()\n",
    "\n",
    "jeme_moulin = pd.read_csv('Field_Data/head_jeme.csv')\n",
    "jeme_moulin = jeme_moulin.dropna()\n",
    "h_real = jeme_moulin.head_bed.to_numpy()\n",
    "t_real = jeme_moulin.soy.to_numpy()\n",
    "\n",
    "time_start = Qtime_data[0]\n",
    "time_end = 10*secinday#Qtime_data[-1]#time_start + 5*secinday #\n",
    "timestep = 300 #seconds\n",
    "time = TimeStamps(time_start,time_end,timestep)\n",
    "\n",
    "meltwater_input = Qin_real(time, Qin_data, Qtime_data)\n",
    "# Qin_mean = 1\n",
    "# dQ = 0.1 \n",
    "# meltwater_input = Qin_sinusoidal(time,Qin_mean, dQ)\n",
    "\n"
   ]
  },
  {
   "cell_type": "markdown",
   "metadata": {},
   "source": [
    "# BRUT METLWATER INPUT -- USUAL PARAM"
   ]
  },
  {
   "cell_type": "code",
   "execution_count": 6,
   "metadata": {},
   "outputs": [
    {
     "ename": "AttributeError",
     "evalue": "'MoulinShape' object has no attribute 'time'",
     "output_type": "error",
     "traceback": [
      "\u001b[0;31m---------------------------------------------------------------------------\u001b[0m",
      "\u001b[0;31mAttributeError\u001b[0m                            Traceback (most recent call last)",
      "\u001b[0;32m<ipython-input-6-63488c009e78>\u001b[0m in \u001b[0;36m<module>\u001b[0;34m\u001b[0m\n\u001b[1;32m     13\u001b[0m \u001b[0;31m# PLOT MODEL OUTPUT\u001b[0m\u001b[0;34m\u001b[0m\u001b[0;34m\u001b[0m\u001b[0;34m\u001b[0m\u001b[0m\n\u001b[1;32m     14\u001b[0m \u001b[0midx\u001b[0m \u001b[0;34m=\u001b[0m \u001b[0;34m-\u001b[0m\u001b[0;36m2\u001b[0m\u001b[0;34m\u001b[0m\u001b[0;34m\u001b[0m\u001b[0m\n\u001b[0;32m---> 15\u001b[0;31m \u001b[0mmoulin_brut\u001b[0m\u001b[0;34m.\u001b[0m\u001b[0mplot_AGU\u001b[0m\u001b[0;34m(\u001b[0m\u001b[0midx\u001b[0m\u001b[0;34m,\u001b[0m\u001b[0mt_real\u001b[0m\u001b[0;34m,\u001b[0m\u001b[0mh_real\u001b[0m\u001b[0;34m,\u001b[0m\u001b[0mspine_head_min\u001b[0m\u001b[0;34m=\u001b[0m\u001b[0;36m200\u001b[0m\u001b[0;34m)\u001b[0m\u001b[0;34m\u001b[0m\u001b[0;34m\u001b[0m\u001b[0m\n\u001b[0m",
      "\u001b[0;32m~/GitHub/Moulin_Shape/moulin-physical-model-in-python/PyMouSh.py\u001b[0m in \u001b[0;36mplot_AGU\u001b[0;34m(self, idx, t_real, h_real, spine_head_min)\u001b[0m\n\u001b[1;32m    546\u001b[0m               ):\n\u001b[1;32m    547\u001b[0m \u001b[0;34m\u001b[0m\u001b[0m\n\u001b[0;32m--> 548\u001b[0;31m         \u001b[0mtime\u001b[0m \u001b[0;34m=\u001b[0m \u001b[0mself\u001b[0m\u001b[0;34m.\u001b[0m\u001b[0mtime\u001b[0m\u001b[0;34m/\u001b[0m\u001b[0;36m24\u001b[0m\u001b[0;34m/\u001b[0m\u001b[0;36m3600\u001b[0m\u001b[0;34m\u001b[0m\u001b[0;34m\u001b[0m\u001b[0m\n\u001b[0m\u001b[1;32m    549\u001b[0m         \u001b[0mz\u001b[0m \u001b[0;34m=\u001b[0m \u001b[0mself\u001b[0m\u001b[0;34m.\u001b[0m\u001b[0mz\u001b[0m\u001b[0;34m\u001b[0m\u001b[0;34m\u001b[0m\u001b[0m\n\u001b[1;32m    550\u001b[0m         \u001b[0mice_thickness\u001b[0m \u001b[0;34m=\u001b[0m \u001b[0mself\u001b[0m\u001b[0;34m.\u001b[0m\u001b[0mice_thickness\u001b[0m\u001b[0;34m\u001b[0m\u001b[0;34m\u001b[0m\u001b[0m\n",
      "\u001b[0;31mAttributeError\u001b[0m: 'MoulinShape' object has no attribute 'time'"
     ]
    }
   ],
   "source": [
    "#INITIALIZE MODEL\n",
    "moulin_brut = MoulinShape(  \n",
    "                        temperature_profile = temperature_profile,                   \n",
    "                        ice_thickness = ice_thickness,\n",
    "                        regional_surface_slope = regional_surface_slope)\n",
    "\n",
    "for t in time :\n",
    "    #main subglacial channel\n",
    "    moulin_brut.run1step(time,\n",
    "                    timestep,\n",
    "                    meltwater_input)\n",
    "    \n",
    "# PLOT MODEL OUTPUT    \n",
    "idx = -2\n",
    "moulin_brut.plot_AGU(idx,t_real,h_real,spine_head_min=200)"
   ]
  },
  {
   "cell_type": "markdown",
   "metadata": {},
   "source": [
    "# BRUT MELTWATER INPUT -- CONNECTED WITH MAIN SUBGLACIAL CHANNEL"
   ]
  },
  {
   "cell_type": "code",
   "execution_count": null,
   "metadata": {},
   "outputs": [],
   "source": [
    "moulin_headL = MoulinShape( channel_length = channel_length,\n",
    "                            temperature_profile = temperature_profile,                   \n",
    "                            ice_thickness = ice_thickness,\n",
    "                            regional_surface_slope = regional_surface_slope)\n",
    "\n",
    "for t in time :\n",
    "    #main subglacial channel\n",
    "    moulin_headL.run1step(time,\n",
    "                    timestep,\n",
    "                    meltwater_input,\n",
    "                    head_L = 300)\n",
    "    \n",
    "# PLOT MODEL OUTPUT    \n",
    "idx = -2\n",
    "moulin_headL.plot_AGU(idx,t_real,h_real,spine_head_min=200)"
   ]
  },
  {
   "cell_type": "markdown",
   "metadata": {},
   "source": [
    "# BRUT MELTWATER INPUT - with subglacial baseflow"
   ]
  },
  {
   "cell_type": "code",
   "execution_count": null,
   "metadata": {},
   "outputs": [],
   "source": [
    "from PyMouSh import MoulinShape\n",
    "moulin_baseflow = MoulinShape(  channel_length = channel_length,\n",
    "                                temperature_profile = temperature_profile,                   \n",
    "                                ice_thickness = ice_thickness,\n",
    "                                regional_surface_slope = regional_surface_slope)\n",
    "\n",
    "for t in time :\n",
    "    #main subglacial channel\n",
    "    moulin_baseflow.run1step(time,\n",
    "                    timestep,\n",
    "                    meltwater_input,\n",
    "                    subglacial_baseflow = 4)\n",
    "    \n",
    "# PLOT MODEL OUTPUT   \n",
    "plt.figure()\n",
    "idx = int(moulin_baseflow.idx/2)\n",
    "moulin_baseflow.plot_AGU(idx,t_real,h_real,spine_head_min=200)\n",
    "\n",
    "fig, ax = plt.subplots()\n",
    "moulin_baseflow.plot_head(ax)\n",
    "\n",
    "fig, ax = plt.subplots()\n",
    "moulin_baseflow.plot_radius_at_z(ax,200,bottom_axis=True)"
   ]
  },
  {
   "cell_type": "code",
   "execution_count": null,
   "metadata": {},
   "outputs": [],
   "source": [
    "fig, ax = plt.subplots()\n",
    "moulin_baseflow.plot_head(ax)\n",
    "\n",
    "fig, ax = plt.subplots()\n",
    "moulin_baseflow.plot_radius_at_z(ax,200,bottom_axis=True)"
   ]
  },
  {
   "cell_type": "markdown",
   "metadata": {},
   "source": [
    "# BRUT METLWATER INPUT -- fixed shape similar to FOXX moulin"
   ]
  },
  {
   "cell_type": "code",
   "execution_count": null,
   "metadata": {},
   "outputs": [],
   "source": [
    "#INITIALIZE MODEL\n",
    "moulin_goblet = MoulinShape(z_elevations = (0,399,400,500),\n",
    "                            moulin_radii = (1.5,1.5,5,5),                             \n",
    "                            channel_length = channel_length,\n",
    "                            temperature_profile = temperature_profile,                   \n",
    "                            ice_thickness = ice_thickness,\n",
    "                            regional_surface_slope = regional_surface_slope)\n",
    "\n",
    "for t in time :\n",
    "    #main subglacial channel\n",
    "    moulin_goblet.run1step(time,\n",
    "                    timestep,\n",
    "                    meltwater_input,\n",
    "                    creep=False,\n",
    "                    elastic_deformation=False,\n",
    "                    melt_below_head=False,\n",
    "                    open_channel_melt=False,\n",
    "                    potential_drop=False,\n",
    "                    ice_motion=False,\n",
    "                    refreezing=False)\n",
    "    \n",
    "# PLOT MODEL OUTPUT    \n",
    "\n",
    "moulin_goblet.plot_AGU(moulin_goblet.idx-1,t_real,h_real,spine_head_min=200)\n",
    "\n",
    "idx_plot = 0\n",
    "for idx in np.arange(1,moulin_goblet.idx-1,6):\n",
    "    idx_plot +=1\n",
    "    moulin_goblet.plot_AGU(idx,t_real,h_real,spine_head_min=200)\n",
    "    plt.savefig('/Users/cctrunz/Dropbox/RESEARCH/MOULIN-SHAPE-FIGURES-MOVIES/AGU2020_movies/Jeme_BrutMeltwaterInput_FixedShapeFoxx_%d'%idx_plot)\n",
    "    plt.close()"
   ]
  },
  {
   "cell_type": "code",
   "execution_count": null,
   "metadata": {},
   "outputs": [],
   "source": [
    "np.arange(1,moulin_goblet.idx-1,6)"
   ]
  },
  {
   "cell_type": "markdown",
   "metadata": {},
   "source": [
    "# BRUT METLWATER INPUT -- fixed shape - just a cylinder"
   ]
  },
  {
   "cell_type": "code",
   "execution_count": null,
   "metadata": {},
   "outputs": [],
   "source": [
    "#INITIALIZE MODEL\n",
    "moulin_goblet = MoulinShape(moulin_radii = 5.,                  \n",
    "                            channel_length = channel_length,\n",
    "                            temperature_profile = temperature_profile,                   \n",
    "                            ice_thickness = ice_thickness,\n",
    "                            regional_surface_slope = regional_surface_slope)\n",
    "\n",
    "for t in time :\n",
    "    #main subglacial channel\n",
    "    moulin_goblet.run1step(time,\n",
    "                    timestep,\n",
    "                    meltwater_input,\n",
    "                    creep=False,\n",
    "                    elastic_deformation=False,\n",
    "                    melt_below_head=False,\n",
    "                    open_channel_melt=False,\n",
    "                    potential_drop=False,\n",
    "                    ice_motion=False,\n",
    "                    refreezing=False)\n",
    "    \n",
    "# PLOT MODEL OUTPUT    \n",
    "idx = -2\n",
    "moulin_goblet.plot_AGU(idx,t_real,h_real,spine_head_min=200)"
   ]
  },
  {
   "cell_type": "code",
   "execution_count": null,
   "metadata": {},
   "outputs": [],
   "source": []
  }
 ],
 "metadata": {
  "kernelspec": {
   "display_name": "Python 3",
   "language": "python",
   "name": "python3"
  },
  "language_info": {
   "codemirror_mode": {
    "name": "ipython",
    "version": 3
   },
   "file_extension": ".py",
   "mimetype": "text/x-python",
   "name": "python",
   "nbconvert_exporter": "python",
   "pygments_lexer": "ipython3",
   "version": "3.6.8"
  }
 },
 "nbformat": 4,
 "nbformat_minor": 4
}
