{
 "cells": [
  {
   "cell_type": "code",
   "execution_count": 251,
   "metadata": {},
   "outputs": [],
   "source": [
    "%matplotlib widget\n",
    "import pandas as pd\n",
    "import numpy as np\n",
    "from scipy.signal import find_peaks\n",
    "import matplotlib.pyplot as plt \n",
    "from matplotlib.ticker import PercentFormatter\n",
    "import pickle\n",
    "secinday = 24*3600\n",
    "\n",
    "def find_nearest(array, value):\n",
    "    \"\"\"Finds the nearest value in an array and outputs a index.\n",
    "    This function was found in \n",
    "    https://stackoverflow.com/questions/2566412/find-nearest-value-in-numpy-array\n",
    "\n",
    "    Parameters:\n",
    "    -----------\n",
    "    array: array to be looked into\n",
    "    value: single value to look for into the array\n",
    "\n",
    "    Output:\n",
    "    -------\n",
    "    index of the closest value in the array\n",
    "    \"\"\"\n",
    "    array = np.asarray(array)\n",
    "    idx = (np.abs(array - value)).argmin()\n",
    "    return idx"
   ]
  },
  {
   "cell_type": "code",
   "execution_count": 267,
   "metadata": {},
   "outputs": [],
   "source": [
    "#Import meltwater input calculated with meltmodel for JEME\n",
    "meltmodel = pd.read_csv('Field_Data/JEME_QSUH.csv', index_col=0, parse_dates=True)\n",
    "meltmodel = meltmodel.dropna()\n",
    "meltmodel = meltmodel['2017/05/30':'2017/08/17 12:00']#['2017/07/19':'2017/09/01']#['2017/05/30':'2017/09/01']\n",
    "\n",
    "\n",
    "#Import head measurement for JEME\n",
    "jeme_moulin = pd.read_csv('Field_Data/head_jeme.csv', index_col=1)\n",
    "jeme_moulin = jeme_moulin.dropna()\n",
    "jeme_moulin = jeme_moulin[:228*secinday]\n",
    "#h_real = jeme_moulin.head_bed.to_numpy()\n",
    "#h_soy = jeme_moulin.soy.to_numpy()\n",
    "#h_doy = h_soy/secinday\n",
    "\n",
    "\n",
    "\n",
    "picklefile = open('Pickles_TC/bf0_fix_TC_nobound', 'rb')\n",
    "bf0_fix = pickle.load(picklefile)\n",
    "picklefile.close()\n",
    "\n",
    "\n",
    "#[1.32749e7:1.56025e7]\n",
    "\n",
    "picklefile = open('Pickles_TC/bf2_fix_TC_nobound', 'rb')\n",
    "bf2_fix = pickle.load(picklefile)\n",
    "picklefile.close()\n",
    "\n",
    "start = find_nearest(bf0_fix.dict['time'], 1.32749e7)\n",
    "end = find_nearest(bf0_fix.dict['time'], 1.4568e7)#1.56025e7)\n",
    "\n",
    "head_bf0 = np.array(bf0_fix.dict['head'][start:end])\n",
    "time_bf0 = np.array(bf0_fix.dict['time'][start:end])\n",
    "\n",
    "head_bf2 = np.array(bf2_fix.dict['head'][start:end])\n",
    "time_bf2 = np.array(bf2_fix.dict['time'][start:end])"
   ]
  },
  {
   "cell_type": "code",
   "execution_count": 268,
   "metadata": {},
   "outputs": [
    {
     "data": {
      "text/plain": [
       "array([317.97002869, 319.43876732, 320.90016159, ..., 306.62167004,\n",
       "       307.78138515, 308.93436724])"
      ]
     },
     "execution_count": 268,
     "metadata": {},
     "output_type": "execute_result"
    }
   ],
   "source": [
    "head_bf2"
   ]
  },
  {
   "cell_type": "code",
   "execution_count": 269,
   "metadata": {},
   "outputs": [
    {
     "data": {
      "application/vnd.jupyter.widget-view+json": {
       "model_id": "da7fd7bb1a4d48fca3293f531e2cbc40",
       "version_major": 2,
       "version_minor": 0
      },
      "text/plain": [
       "Canvas(toolbar=Toolbar(toolitems=[('Home', 'Reset original view', 'home', 'home'), ('Back', 'Back to previous …"
      ]
     },
     "metadata": {},
     "output_type": "display_data"
    },
    {
     "data": {
      "text/plain": [
       "[<matplotlib.lines.Line2D at 0x1ddd859d3d0>]"
      ]
     },
     "execution_count": 269,
     "metadata": {},
     "output_type": "execute_result"
    }
   ],
   "source": [
    "plt.figure()\n",
    "plt.plot(time_bf0, head_bf0)\n",
    "plt.plot(time_bf2, head_bf2)"
   ]
  },
  {
   "cell_type": "code",
   "execution_count": 119,
   "metadata": {},
   "outputs": [
    {
     "data": {
      "application/vnd.jupyter.widget-view+json": {
       "model_id": "ac14cf7d7ca244c9b40bcc305379fb0a",
       "version_major": 2,
       "version_minor": 0
      },
      "text/plain": [
       "Canvas(toolbar=Toolbar(toolitems=[('Home', 'Reset original view', 'home', 'home'), ('Back', 'Back to previous …"
      ]
     },
     "metadata": {},
     "output_type": "display_data"
    },
    {
     "data": {
      "text/plain": [
       "[<matplotlib.lines.Line2D at 0x1dd49abf580>]"
      ]
     },
     "execution_count": 119,
     "metadata": {},
     "output_type": "execute_result"
    }
   ],
   "source": [
    "\n",
    "Qmod_peaks = find_peaks(meltmodel.Q, distance = 20, height=0)# height = 0.015)\n",
    "max_height = Qmod_peaks[1]['peak_heights']\n",
    "max_pos = meltmodel.index[Qmod_peaks[0]] \n",
    "\n",
    "Qmod_minima = find_peaks(meltmodel.Q*-1, distance = 18,) #height = -0.9)\n",
    "min_pos = meltmodel.index[Qmod_minima[0]]  \n",
    "min_height = meltmodel.Q[Qmod_minima[0]]#*-1\n",
    "\n",
    "\n",
    "plt.figure()\n",
    "plt.plot(meltmodel.index,meltmodel.Q)\n",
    "plt.plot(max_pos, max_height,'o')#, color = 'r', s = 10, marker = 'D', label = 'maxima')\n",
    "plt.plot(min_pos, min_height,'o')#, color = 'r', s = 10, marker = 'D', label = 'maxima')\n",
    "\n",
    "Ain = max_height-min_height\n",
    "Qin_mean = (max_height+min_height)/2\n",
    "Ain_star = Ain/Qin_mean\n",
    "\n",
    "\n",
    "Ain_star_average = np.zeros(len(Ain)-5)\n",
    "\n",
    "for i in np.arange(len(Ain)-5):\n",
    "    Ain_star_average[i] = np.mean([Ain_star[i],Ain_star[i+1],Ain_star[i+2],Ain_star[i+3],Ain_star[i+4]])\n",
    "\n",
    "std = np.std(Ain_star_average)\n",
    "mean = np.mean(Ain_star_average)\n",
    "print('std=',std)\n",
    "print('mean=',mean)\n",
    "\n",
    "std_tot = np.std(Ain_star)\n",
    "mean_tot = np.mean(Ain_star)\n",
    "print('std_tot=',std_tot)\n",
    "print('mean_tot=',mean_tot)\n",
    "\n",
    "plt.figure()\n",
    "plt.hist(Ain_star_average,weights=np.ones(len(Ain_star_average)) / len(Ain_star_average))#, bins=10)\n",
    "plt.gca().yaxis.set_major_formatter(PercentFormatter(1))\n",
    "plt.xlabel('$A_{in}*$')\n",
    "plt.title('mean')\n",
    "\n"
   ]
  },
  {
   "cell_type": "code",
   "execution_count": 220,
   "metadata": {},
   "outputs": [
    {
     "data": {
      "application/vnd.jupyter.widget-view+json": {
       "model_id": "5be808584336406c82c660b6a09f138b",
       "version_major": 2,
       "version_minor": 0
      },
      "text/plain": [
       "Canvas(toolbar=Toolbar(toolitems=[('Home', 'Reset original view', 'home', 'home'), ('Back', 'Back to previous …"
      ]
     },
     "metadata": {},
     "output_type": "display_data"
    },
    {
     "name": "stdout",
     "output_type": "stream",
     "text": [
      "23\n",
      "23\n"
     ]
    }
   ],
   "source": [
    "\n",
    "\n",
    "Qmod_peaks = find_peaks(jeme_moulin.head_bed, distance = 22*4, height=0)# height = 0.015)\n",
    "max_height = Qmod_peaks[1]['peak_heights']\n",
    "max_pos = jeme_moulin.index[Qmod_peaks[0]] \n",
    "\n",
    "Qmod_minima = find_peaks(jeme_moulin.head_bed*-1, distance = 20*4)\n",
    "min_height = jeme_moulin.head_bed.to_numpy()[Qmod_minima[0]]#*-1\n",
    "min_pos = jeme_moulin.index[Qmod_minima[0]] \n",
    "\n",
    "max_height = np.delete(max_height,[3,4,5,8,9])\n",
    "max_pos = np.delete(max_pos,[3,4,5,8,9])\n",
    "min_height = np.delete(min_height,[0,4,5,6,7,10,11])\n",
    "min_pos = np.delete(min_pos,[0,4,5,6,7,10,11])\n",
    "\n",
    "plt.figure()\n",
    "plt.plot(jeme_moulin.index,jeme_moulin.head_bed)\n",
    "plt.plot(max_pos,max_height,'o')#, color = 'r', s = 10, marker = 'D', label = 'maxima')\n",
    "plt.plot(min_pos,min_height,'o')#, color = 'r', s = 10, marker = 'D', label = 'maxima')\n",
    "\n",
    "print(len(max_height))\n",
    "print(len(min_height))"
   ]
  },
  {
   "cell_type": "code",
   "execution_count": 259,
   "metadata": {},
   "outputs": [
    {
     "data": {
      "text/plain": [
       "Float64Index([17356500.0, 17357400.0, 17358300.0, 17359200.0, 17360100.0,\n",
       "              17361000.0, 17361900.0, 17362800.0, 17363700.0, 17364600.0,\n",
       "              ...\n",
       "              19691100.0, 19692000.0, 19692900.0, 19693800.0, 19694700.0,\n",
       "              19695600.0, 19696500.0, 19697400.0, 19698300.0, 19699200.0],\n",
       "             dtype='float64', name='soy', length=2959)"
      ]
     },
     "execution_count": 259,
     "metadata": {},
     "output_type": "execute_result"
    }
   ],
   "source": [
    "jeme_moulin.index"
   ]
  },
  {
   "cell_type": "code",
   "execution_count": 231,
   "metadata": {},
   "outputs": [
    {
     "data": {
      "application/vnd.jupyter.widget-view+json": {
       "model_id": "b3955fa8483e4783a7102e6bc54baaff",
       "version_major": 2,
       "version_minor": 0
      },
      "text/plain": [
       "Canvas(toolbar=Toolbar(toolitems=[('Home', 'Reset original view', 'home', 'home'), ('Back', 'Back to previous …"
      ]
     },
     "metadata": {},
     "output_type": "display_data"
    },
    {
     "name": "stdout",
     "output_type": "stream",
     "text": [
      "23\n",
      "23\n",
      "std= 0.02794017809213546\n",
      "mean= 0.09749195555555555\n",
      "std_tot= 0.039536517845623134\n",
      "mean_tot= 0.09816834782608695\n"
     ]
    },
    {
     "data": {
      "application/vnd.jupyter.widget-view+json": {
       "model_id": "6059e3dd77554207b637b2be09f86270",
       "version_major": 2,
       "version_minor": 0
      },
      "text/plain": [
       "Canvas(toolbar=Toolbar(toolitems=[('Home', 'Reset original view', 'home', 'home'), ('Back', 'Back to previous …"
      ]
     },
     "metadata": {},
     "output_type": "display_data"
    },
    {
     "data": {
      "text/plain": [
       "Text(0.5, 1.0, 'mean')"
      ]
     },
     "execution_count": 231,
     "metadata": {},
     "output_type": "execute_result"
    }
   ],
   "source": [
    "\n",
    "\n",
    "Qmod_peaks = find_peaks(jeme_moulin.head_bed, distance = 22*4, height=0)# height = 0.015)\n",
    "max_height = Qmod_peaks[1]['peak_heights']\n",
    "max_pos = jeme_moulin.index[Qmod_peaks[0]] \n",
    "\n",
    "Qmod_minima = find_peaks(jeme_moulin.head_bed*-1, distance = 20*4)\n",
    "min_height = jeme_moulin.head_bed.to_numpy()[Qmod_minima[0]]#*-1\n",
    "min_pos = jeme_moulin.index[Qmod_minima[0]] \n",
    "\n",
    "max_height = np.delete(max_height,[3,4,5,8,9])\n",
    "max_pos = np.delete(max_pos,[3,4,5,8,9])\n",
    "min_height = np.delete(min_height,[0,4,5,6,7,10,11])\n",
    "min_pos = np.delete(min_pos,[0,4,5,6,7,10,11])\n",
    "\n",
    "plt.figure()\n",
    "plt.plot(jeme_moulin.index,jeme_moulin.head_bed)\n",
    "plt.plot(max_pos,max_height,'o')#, color = 'r', s = 10, marker = 'D', label = 'maxima')\n",
    "plt.plot(min_pos,min_height,'o')#, color = 'r', s = 10, marker = 'D', label = 'maxima')\n",
    "\n",
    "print(len(max_height))\n",
    "print(len(min_height))\n",
    "\n",
    "Ain = max_height-min_height\n",
    "Qin_mean = (max_height+min_height)/2\n",
    "Ain_star = Ain/500\n",
    "\n",
    "\n",
    "Ain_star_average = np.zeros(len(Ain)-5)\n",
    "\n",
    "for i in np.arange(len(Ain)-5):\n",
    "    Ain_star_average[i] = np.mean([Ain_star[i],Ain_star[i+1],Ain_star[i+2],Ain_star[i+3],Ain_star[i+4]])\n",
    "\n",
    "std = np.std(Ain_star_average)\n",
    "mean = np.mean(Ain_star_average)\n",
    "print('std=',std)\n",
    "print('mean=',mean)\n",
    "\n",
    "std_tot = np.std(Ain_star)\n",
    "mean_tot = np.mean(Ain_star)\n",
    "print('std_tot=',std_tot)\n",
    "print('mean_tot=',mean_tot)\n",
    "\n",
    "plt.figure()\n",
    "plt.hist(Ain_star_average,weights=np.ones(len(Ain_star_average)) / len(Ain_star_average))#, bins=10)\n",
    "plt.gca().yaxis.set_major_formatter(PercentFormatter(1))\n",
    "plt.xlabel('$A_{in}*$')\n",
    "plt.title('mean')\n",
    "\n"
   ]
  },
  {
   "cell_type": "code",
   "execution_count": 271,
   "metadata": {},
   "outputs": [
    {
     "data": {
      "application/vnd.jupyter.widget-view+json": {
       "model_id": "25b562a750204e9984661ce660b495d5",
       "version_major": 2,
       "version_minor": 0
      },
      "text/plain": [
       "Canvas(toolbar=Toolbar(toolitems=[('Home', 'Reset original view', 'home', 'home'), ('Back', 'Back to previous …"
      ]
     },
     "metadata": {},
     "output_type": "display_data"
    },
    {
     "name": "stdout",
     "output_type": "stream",
     "text": [
      "15\n",
      "15\n",
      "std= 0.23094161070331826\n",
      "mean= 0.6463800179964244\n",
      "std_tot= 0.3648099247260045\n",
      "mean_tot= 0.7530129979548082\n"
     ]
    },
    {
     "data": {
      "application/vnd.jupyter.widget-view+json": {
       "model_id": "4ee29a4872dd4c3b88197caac3cb236a",
       "version_major": 2,
       "version_minor": 0
      },
      "text/plain": [
       "Canvas(toolbar=Toolbar(toolitems=[('Home', 'Reset original view', 'home', 'home'), ('Back', 'Back to previous …"
      ]
     },
     "metadata": {},
     "output_type": "display_data"
    },
    {
     "data": {
      "text/plain": [
       "Text(0.5, 1.0, 'mean')"
      ]
     },
     "execution_count": 271,
     "metadata": {},
     "output_type": "execute_result"
    }
   ],
   "source": [
    "Qmod_peaks = find_peaks(head_bf0, distance = 22*4, height=0)# height = 0.015)\n",
    "max_height = Qmod_peaks[1]['peak_heights']\n",
    "max_pos = time_bf0[Qmod_peaks[0]] \n",
    "\n",
    "Qmod_minima = find_peaks(head_bf0*-1, distance = 20*4)\n",
    "min_height = head_bf0[Qmod_minima[0]]#*-1\n",
    "min_pos = time_bf0[Qmod_minima[0]] \n",
    "\n",
    "\n",
    "plt.figure()\n",
    "plt.plot(time_bf0,head_bf0)\n",
    "plt.plot(max_pos,max_height,'o')#, color = 'r', s = 10, marker = 'D', label = 'maxima')\n",
    "plt.plot(min_pos,min_height,'o')#, color = 'r', s = 10, marker = 'D', label = 'maxima')\n",
    "\n",
    "print(len(max_height))\n",
    "print(len(min_height))\n",
    "\n",
    "Ain = max_height-min_height\n",
    "Qin_mean = (max_height+min_height)/2\n",
    "Ain_star = Ain/500\n",
    "\n",
    "\n",
    "Ain_star_average = np.zeros(len(Ain)-5)\n",
    "\n",
    "for i in np.arange(len(Ain)-5):\n",
    "    Ain_star_average[i] = np.mean([Ain_star[i],Ain_star[i+1],Ain_star[i+2],Ain_star[i+3],Ain_star[i+4]])\n",
    "\n",
    "std = np.std(Ain_star_average)\n",
    "mean = np.mean(Ain_star_average)\n",
    "print('std=',std)\n",
    "print('mean=',mean)\n",
    "\n",
    "std_tot = np.std(Ain_star)\n",
    "mean_tot = np.mean(Ain_star)\n",
    "print('std_tot=',std_tot)\n",
    "print('mean_tot=',mean_tot)\n",
    "\n",
    "plt.figure()\n",
    "plt.hist(Ain_star,weights=np.ones(len(Ain_star)) / len(Ain_star))#, bins=10)\n",
    "plt.gca().yaxis.set_major_formatter(PercentFormatter(1))\n",
    "plt.xlabel('$A_{in}*$')\n",
    "plt.title('mean')\n",
    "\n",
    "\n"
   ]
  },
  {
   "cell_type": "code",
   "execution_count": 266,
   "metadata": {},
   "outputs": [
    {
     "data": {
      "application/vnd.jupyter.widget-view+json": {
       "model_id": "a9b8405ab11546e7a992c0b2701d1e15",
       "version_major": 2,
       "version_minor": 0
      },
      "text/plain": [
       "Canvas(toolbar=Toolbar(toolitems=[('Home', 'Reset original view', 'home', 'home'), ('Back', 'Back to previous …"
      ]
     },
     "metadata": {},
     "output_type": "display_data"
    },
    {
     "name": "stdout",
     "output_type": "stream",
     "text": [
      "27\n",
      "27\n",
      "std= 0.00885915761825675\n",
      "mean= 0.08540035080539611\n",
      "std_tot= 0.016423559209679018\n",
      "mean_tot= 0.08691129778608468\n"
     ]
    },
    {
     "data": {
      "application/vnd.jupyter.widget-view+json": {
       "model_id": "f86ef774586b4a65884fcf4c9e634d71",
       "version_major": 2,
       "version_minor": 0
      },
      "text/plain": [
       "Canvas(toolbar=Toolbar(toolitems=[('Home', 'Reset original view', 'home', 'home'), ('Back', 'Back to previous …"
      ]
     },
     "metadata": {},
     "output_type": "display_data"
    },
    {
     "data": {
      "text/plain": [
       "Text(0.5, 1.0, 'mean')"
      ]
     },
     "execution_count": 266,
     "metadata": {},
     "output_type": "execute_result"
    }
   ],
   "source": [
    "Qmod_peaks = find_peaks(head_bf2, distance = 22*4, height=0)# height = 0.015)\n",
    "max_height = Qmod_peaks[1]['peak_heights']\n",
    "max_pos = time_bf2[Qmod_peaks[0]] \n",
    "\n",
    "Qmod_minima = find_peaks(head_bf2*-1, distance = 20*4)\n",
    "min_height = head_bf2[Qmod_minima[0]]#*-1\n",
    "min_pos = time_bf2[Qmod_minima[0]] \n",
    "\n",
    "\n",
    "plt.figure()\n",
    "plt.plot(time_bf2,head_bf2)\n",
    "plt.plot(max_pos,max_height,'o')#, color = 'r', s = 10, marker = 'D', label = 'maxima')\n",
    "plt.plot(min_pos,min_height,'o')#, color = 'r', s = 10, marker = 'D', label = 'maxima')\n",
    "\n",
    "print(len(max_height))\n",
    "print(len(min_height))\n",
    "\n",
    "Ain = max_height-min_height\n",
    "Qin_mean = (max_height+min_height)/2\n",
    "Ain_star = Ain/500\n",
    "\n",
    "\n",
    "Ain_star_average = np.zeros(len(Ain)-5)\n",
    "\n",
    "for i in np.arange(len(Ain)-5):\n",
    "    Ain_star_average[i] = np.mean([Ain_star[i],Ain_star[i+1],Ain_star[i+2],Ain_star[i+3],Ain_star[i+4]])\n",
    "\n",
    "std = np.std(Ain_star_average)\n",
    "mean = np.mean(Ain_star_average)\n",
    "print('std=',std)\n",
    "print('mean=',mean)\n",
    "\n",
    "std_tot = np.std(Ain_star)\n",
    "mean_tot = np.mean(Ain_star)\n",
    "print('std_tot=',std_tot)\n",
    "print('mean_tot=',mean_tot)\n",
    "\n",
    "plt.figure()\n",
    "plt.hist(Ain_star_average,weights=np.ones(len(Ain_star_average)) / len(Ain_star_average))#, bins=10)\n",
    "plt.gca().yaxis.set_major_formatter(PercentFormatter(1))\n",
    "plt.xlabel('$A_{in}*$')\n",
    "plt.title('mean')\n",
    "\n"
   ]
  },
  {
   "cell_type": "code",
   "execution_count": null,
   "metadata": {},
   "outputs": [],
   "source": []
  }
 ],
 "metadata": {
  "kernelspec": {
   "display_name": "Python 3",
   "language": "python",
   "name": "python3"
  },
  "language_info": {
   "codemirror_mode": {
    "name": "ipython",
    "version": 3
   },
   "file_extension": ".py",
   "mimetype": "text/x-python",
   "name": "python",
   "nbconvert_exporter": "python",
   "pygments_lexer": "ipython3",
   "version": "3.8.5"
  }
 },
 "nbformat": 4,
 "nbformat_minor": 4
}
